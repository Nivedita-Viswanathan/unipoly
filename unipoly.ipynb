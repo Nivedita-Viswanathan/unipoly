{
 "cells": [
  {
   "cell_type": "markdown",
   "metadata": {},
   "source": [
    "This example constructs a unipotent element in the groups $SO(3,q)=PGL(2,q)$, $q$ odd, as explained in the paper “Adjoint representations of black box groups $PSL(2,q)$, $q$ odd”. "
   ]
  },
  {
   "cell_type": "code",
   "execution_count": 1,
   "metadata": {},
   "outputs": [],
   "source": [
    "Read(\"unipoly.txt\");"
   ]
  },
  {
   "cell_type": "code",
   "execution_count": 3,
   "metadata": {},
   "outputs": [
    {
     "data": {
      "text/plain": [
       "SO(0,3,289)"
      ]
     },
     "execution_count": 3,
     "metadata": {
      "text/plain": ""
     },
     "output_type": "execute_result"
    }
   ],
   "source": [
    "G:=SO(3,17^2);"
   ]
  },
  {
   "cell_type": "code",
   "execution_count": 4,
   "metadata": {},
   "outputs": [
    {
     "data": {
      "text/plain": [
       "[ [ [ Z(17^2), 0*Z(17), 0*Z(17) ], [ 0*Z(17), Z(17^2)^287, 0*Z(17) ], [ 0*Z(17), 0*Z(17), Z(17)^0 ] ], [ [ Z(17^2)^287, Z(17^2)^177, Z(17^2)^160 ], [ 0*Z(17), Z(17^2), 0*Z(17) ], [ 0*Z(17), Z(17^2)^269, Z(17)^0 ] ], [ [ Z(17)^0, Z(17)^8, Z(17)^8 ], [ Z(17)^8, 0*Z(17), 0*Z(17) ], [ Z(17)^14, 0*Z(17), Z(17)^8 ] ] ]"
      ]
     },
     "execution_count": 4,
     "metadata": {
      "text/plain": ""
     },
     "output_type": "execute_result"
    }
   ],
   "source": [
    "S:=GeneratorsOfGroup(G);"
   ]
  },
  {
   "cell_type": "code",
   "execution_count": 5,
   "metadata": {},
   "outputs": [
    {
     "data": {
      "text/plain": [
       "24137280"
      ]
     },
     "execution_count": 5,
     "metadata": {
      "text/plain": ""
     },
     "output_type": "execute_result"
    }
   ],
   "source": [
    "exp:=Order(G);"
   ]
  },
  {
   "cell_type": "code",
   "execution_count": 6,
   "metadata": {},
   "outputs": [
    {
     "data": {
      "text/plain": [
       "[ true, [ [ Z(17^2)^178, Z(17^2)^196, Z(17^2)^259 ], [ Z(17^2)^104, Z(17^2)^178, Z(17^2)^213 ], [ Z(17^2)^177, Z(17^2)^223, Z(17^2)^244 ] ], [ [ Z(17^2)^2, Z(17^2)^254, Z(17^2)^56 ], [ Z(17^2)^44, Z(17^2)^2, Z(17^2)^95 ], [ Z(17^2)^59, Z(17^2)^20, Z(17^2)^195 ] ], [ [ Z(17^2)^38, Z(17^2)^260, Z(17^2)^77 ], [ Z(17^2)^160, Z(17^2)^194, Z(17^2)^249 ], [ Z(17^2)^279, Z(17^2)^263, Z(17^2)^274 ] ] ]"
      ]
     },
     "execution_count": 6,
     "metadata": {
      "text/plain": ""
     },
     "output_type": "execute_result"
    }
   ],
   "source": [
    "u:=unipoly(S,exp);"
   ]
  },
  {
   "cell_type": "code",
   "execution_count": 7,
   "metadata": {},
   "outputs": [
    {
     "data": {
      "text/plain": [
       "2"
      ]
     },
     "execution_count": 7,
     "metadata": {
      "text/plain": ""
     },
     "output_type": "execute_result"
    }
   ],
   "source": [
    "Order(u[2]);"
   ]
  },
  {
   "cell_type": "code",
   "execution_count": 8,
   "metadata": {},
   "outputs": [
    {
     "data": {
      "text/plain": [
       "2"
      ]
     },
     "execution_count": 8,
     "metadata": {
      "text/plain": ""
     },
     "output_type": "execute_result"
    }
   ],
   "source": [
    "Order(u[3]);"
   ]
  },
  {
   "cell_type": "code",
   "execution_count": 9,
   "metadata": {},
   "outputs": [
    {
     "data": {
      "text/plain": [
       "17"
      ]
     },
     "execution_count": 9,
     "metadata": {
      "text/plain": ""
     },
     "output_type": "execute_result"
    }
   ],
   "source": [
    "Order(u[4]);"
   ]
  },
  {
   "cell_type": "code",
   "execution_count": 10,
   "metadata": {},
   "outputs": [
    {
     "data": {
      "text/plain": [
       "true"
      ]
     },
     "execution_count": 10,
     "metadata": {
      "text/plain": ""
     },
     "output_type": "execute_result"
    }
   ],
   "source": [
    "u[2]*u[3]=u[4];"
   ]
  }
 ],
 "metadata": {
  "kernelspec": {
   "display_name": "GAP 4",
   "language": "gap",
   "name": "gap-4"
  },
  "language_info": {
   "codemirror_mode": "gap",
   "file_extension": ".g",
   "mimetype": "text/x-gap",
   "name": "GAP 4",
   "nbconvert_exporter": "",
   "pygments_lexer": "gap",
   "version": "4.9.3"
  }
 },
 "nbformat": 4,
 "nbformat_minor": 2
}
